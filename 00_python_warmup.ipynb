{
 "cells": [
  {
   "cell_type": "markdown",
   "metadata": {},
   "source": [
    "# python warm-up for statistics and machine learning in life sciences <a id='top'></a>\n",
    "\n",
    "The goal of this notebook is to provide a warm-up before the course, as well as provide a gentle yet functionnal intro to some of the libraries we will be using during the course.\n",
    "\n",
    "\n",
    "* [01. Basic python](#basic)\n",
    "* [02. numpy and vectorized operations](#numpy)\n",
    "* [03. basic plotting](#plot)\n",
    "* [Exercise 00.01](#ex01)\n",
    "* [04. generating random numbers](#random)\n",
    "* [05. statistical testing](#stats)\n",
    "* [06. bringing together numpy, numpy.random, and matplotlib](#together)\n",
    "* [07. the briefest intro to pandas](#pandas)\n",
    "* [Exercise 00.02 : tying everything together](#exo2)"
   ]
  },
  {
   "cell_type": "markdown",
   "metadata": {},
   "source": [
    "## 01. basic python <a class=\"anchor\" id=\"basic\"></a>\n"
   ]
  },
  {
   "cell_type": "code",
   "execution_count": null,
   "metadata": {},
   "outputs": [],
   "source": [
    "\n",
    "X = []\n",
    "\n",
    "for i in range(10):\n",
    "    X.append( i**2 )\n",
    "\n",
    "print(X)"
   ]
  },
  {
   "cell_type": "code",
   "execution_count": null,
   "metadata": {},
   "outputs": [],
   "source": [
    "\n",
    "for x in X:\n",
    "    print(x)\n"
   ]
  },
  {
   "cell_type": "code",
   "execution_count": null,
   "metadata": {},
   "outputs": [],
   "source": [
    "for x in X:\n",
    "    if x%2 == 1:\n",
    "        print(x,'is odd')\n",
    "    else:\n",
    "        print(x,'is even')"
   ]
  },
  {
   "cell_type": "code",
   "execution_count": null,
   "metadata": {},
   "outputs": [],
   "source": [
    "# list comprehension is a very fine way of compressing all this\n",
    "\n",
    "X = [ i**2 for i in range(10) ]\n",
    "\n",
    "Xeven = [ x for x in X if x%2 == 0 ]\n",
    "Xodd = [ x for x in X if x%2 == 1 ]\n",
    "\n",
    "\n",
    "print( 'X    ', X )\n",
    "print( 'Xeven', Xeven )\n",
    "print( 'Xodd ', Xodd )"
   ]
  },
  {
   "cell_type": "markdown",
   "metadata": {},
   "source": [
    "[back to the top](#top)\n",
    "\n",
    "## 02. numpy and vectorized operations <a class=\"anchor\" id=\"numpy\"></a>"
   ]
  },
  {
   "cell_type": "code",
   "execution_count": null,
   "metadata": {},
   "outputs": [],
   "source": [
    "import numpy as np\n",
    "\n",
    "X_array = np.array(X)\n",
    "\n",
    "print(X_array)"
   ]
  },
  {
   "cell_type": "code",
   "execution_count": null,
   "metadata": {},
   "outputs": [],
   "source": [
    "print(X_array / 2 )"
   ]
  },
  {
   "cell_type": "code",
   "execution_count": null,
   "metadata": {},
   "outputs": [],
   "source": [
    "print( np.exp(X_array ) )\n",
    "print( np.log(X_array ) )"
   ]
  },
  {
   "cell_type": "code",
   "execution_count": null,
   "metadata": {},
   "outputs": [],
   "source": [
    "print( 'shape' , X_array.shape )\n",
    "print( 'mean ' , np.mean(X_array) )\n",
    "print( 'standard deviation' , np.std(X_array) )"
   ]
  },
  {
   "cell_type": "markdown",
   "metadata": {},
   "source": [
    "### linspace and arange"
   ]
  },
  {
   "cell_type": "code",
   "execution_count": null,
   "metadata": {},
   "outputs": [],
   "source": [
    "print( 'linspace 0,2,9 :' , np.linspace(0,2,9) , sep='\\t' )\n",
    "print( 'linspace -0.5,0.5,11 :' , np.linspace(-0.5,0.5,11) , sep='\\t' )\n",
    "print( 'linspace 10,0,11 :' , np.linspace(10,0,11) , sep='\\t' )"
   ]
  },
  {
   "cell_type": "code",
   "execution_count": null,
   "metadata": {},
   "outputs": [],
   "source": [
    "print( \"arange 0,2,0.1 :\", np.arange(1.5,2,0.1) , sep='\\t' )\n",
    "print( \"arange -1,1,0.125 :\", np.arange(-1,1,0.125) , sep='\\t' )\n",
    "print( \"arange 10,2 :\", np.arange(10,2,1) , sep='\\t' ) # reverse does not work!"
   ]
  },
  {
   "cell_type": "markdown",
   "metadata": {},
   "source": [
    "[back to the top](#top)\n",
    "\n",
    "## 03. basic plotting <a class=\"anchor\" id=\"plot\"></a>"
   ]
  },
  {
   "cell_type": "code",
   "execution_count": null,
   "metadata": {},
   "outputs": [],
   "source": [
    "import matplotlib.pyplot as plt\n",
    "\n",
    "plt.plot( [0,1,2,3] , [10,5,7,0.2] )\n",
    "plt.show()"
   ]
  },
  {
   "cell_type": "markdown",
   "metadata": {},
   "source": [
    "**Adding color, symbols, ...**\n",
    "\n",
    "`matplotlib` offers many options to customize the appearance of your plot.\n",
    "\n",
    "Here are the (some) common arguments to `plot()` (which can also be applied to many other graphical representations):\n",
    " * `color` : could be given as a (red,green,blue) tuple, a [name](https://matplotlib.org/3.1.0/gallery/color/named_colors.html), a hex code, ...  (see [here](https://matplotlib.org/tutorials/colors/colors.html) for all the options)\n",
    " * `marker` : symbols for the data point. `'.'` is a point, `'v'` a down triangle, ... see [here](https://matplotlib.org/3.3.3/api/markers_api.html#module-matplotlib.markers) for the list of possibilities.\n",
    " * `linestyle` : style of the line. `'-'` is solid, `'--'` is dashed, `''` for no line. See [here](https://matplotlib.org/3.3.3/gallery/lines_bars_and_markers/linestyles.html) for more options\n",
    " * `linewidth` : width of the lines\n",
    " * `markersize` : size of the markers\n",
    "\n",
    "You are invited to experiment and explore these options. Here are a few examples:\n"
   ]
  },
  {
   "cell_type": "code",
   "execution_count": null,
   "metadata": {},
   "outputs": [],
   "source": [
    "y1 = [1,2,3,10,5]\n",
    "y2 = [10,9,7,5.5,6]\n",
    "y3 = [4,3,1.5,1]\n",
    "\n",
    "# green, dashed line, with circle markers\n",
    "plt.plot( y1, color = 'green', marker = 'o', linestyle = '--', linewidth = 2, markersize = 8 )\n",
    "\n",
    "# blue triangle with no line\n",
    "plt.plot( y2, color = 'blue', marker = 'v', linestyle = '' , markersize = 16 )\n",
    "\n",
    "# solid orange line\n",
    "plt.plot(y3, color = 'orange', marker = '', linestyle = '-', linewidth = 4 )\n",
    "\n",
    "plt.show()"
   ]
  },
  {
   "cell_type": "markdown",
   "metadata": {},
   "source": [
    "Note that:\n",
    " * you can call plot several time in a row to make several lines appear (only `plt.show()` causes the figure to appear)\n",
    " * the frame of the picture automatically adjust to what it needs to show"
   ]
  },
  {
   "cell_type": "markdown",
   "metadata": {},
   "source": [
    "**multiple subplots**\n",
    "\n",
    "Now would normally be when we show you how to add labels, titles and legends to figures. \n",
    "\n",
    "However, the way `matplotlib` is built, it is actually a bit more efficient to first learn how to create multiple subplots.\n",
    "\n",
    "\n",
    "Creating multiple plots is possible with the function `plt.subplots()`.\n",
    "Amon its many arguments, it takes:\n",
    " * `nrows` : number of subplot rows\n",
    " * `ncols` : number of subplot columns\n",
    " * `figsize` : tuple (width,height) of the figure\n",
    "\n",
    "This function creates a Figure and an Axes object.\n",
    "The Axes object can be either : \n",
    " * a simple Axe is there is 1 row and 1 columns\n",
    " * a list of Axe objects if there is 1 row and multiple columns, or 1 column and multiple rows\n",
    " * a list of lists of Axes objects if there is multiple rows and multiple columns\n"
   ]
  },
  {
   "cell_type": "code",
   "execution_count": null,
   "metadata": {},
   "outputs": [],
   "source": [
    "y1 = [1,2,3,10,5]\n",
    "y2 = [10,9,7,5.5,6]\n",
    "y3 = [4,3,1.5,1]\n",
    "\n",
    "\n",
    "# subplots returns a Figure and an Axes object\n",
    "fig, ax = plt.subplots(nrows=1, ncols=2) # 2 columns and 1 row\n",
    "\n",
    "# ax is a list with two objects. Each object correspond to 1 subplot\n",
    "\n",
    "# accessing to the first column ax[0]\n",
    "ax[0].plot( y1, color = 'green', marker = 'o', linestyle = '--', linewidth = 2, markersize = 8 )\n",
    "\n",
    "# accessing to the second column ax[1]\n",
    "ax[1].plot( y2, color = 'blue', marker = 'v', linestyle = '' , markersize = 16 )\n",
    "ax[1].plot( y3, color = 'orange', marker = '', linestyle = '-' )\n",
    "\n",
    "plt.show()"
   ]
  },
  {
   "cell_type": "markdown",
   "metadata": {},
   "source": [
    "Notice how we call `ax[0].plot(...)` instead of `plt.plot(...)` to specify in which subplots we want to plot."
   ]
  },
  {
   "cell_type": "markdown",
   "metadata": {},
   "source": [
    "**multiple subplots - continued**\n",
    "\n",
    "Let's see the same thing with several lines and several columns"
   ]
  },
  {
   "cell_type": "code",
   "execution_count": null,
   "metadata": {},
   "outputs": [],
   "source": [
    "y1 = [1,2,3,10,5]\n",
    "y2 = [10,9,7,5.5,6]\n",
    "y3 = [4,3,1.5,1]\n",
    "y4 = [1,2,3,7,5]\n",
    "\n",
    "# 2 columns and 2 rows, and we also set the figure size\n",
    "fig, ax = plt.subplots(nrows=2, ncols=2 , figsize = (12,12))\n",
    "\n",
    "# ax is a list of two lists with two objects each.\n",
    "\n",
    "# accessing to the first row, first column : ax[0][0]\n",
    "ax[0][0].plot( y1, color = 'green', marker = 'o', linestyle = '--', linewidth = 2, markersize = 8 )\n",
    "\n",
    "# accessing to the first row, second column : ax[0][1]\n",
    "ax[0][1].plot( y2, color = 'blue', marker = 'v', linestyle = '' , markersize = 16 )\n",
    "\n",
    "# accessing to the second row, first column : ax[1][0]\n",
    "ax[1][0].plot( y3, color = 'orange', marker = 'x', linestyle = '-' )\n",
    "\n",
    "# accessing to the first row, second column : ax[1][1]\n",
    "ax[1][1].plot( y4, color = 'teal', linestyle = '-.' , linewidth=5 )\n",
    "\n",
    "plt.show()"
   ]
  },
  {
   "cell_type": "markdown",
   "metadata": {},
   "source": [
    "**setting up labels**\n",
    "\n",
    "To set the labels at the x-axis, y-axis and title, we use the method of the Axe object:\n",
    " * `.set_xlabel(...)`\n",
    " * `.set_ylabel(...)`\n",
    " * `.set_title(...) `\n"
   ]
  },
  {
   "cell_type": "code",
   "execution_count": null,
   "metadata": {},
   "outputs": [],
   "source": [
    "y1 = [1,2,3,10,5]\n",
    "y2 = [10,9,7,5.5,6]\n",
    "y3 = [4,3,1.5,1]\n",
    "\n",
    "# subplots returns a Figure and an Axes object\n",
    "fig, ax = plt.subplots(nrows=1, ncols=2 , figsize=(10,5)) # 2 columns and 1 row\n",
    "\n",
    "\n",
    "# accessing to the first column ax[0]\n",
    "ax[0].plot( y1, color = 'green', marker = 'o', linestyle = '--', linewidth = 2, markersize = 8 )\n",
    "ax[0].set_xlabel('x-axis label')\n",
    "ax[0].set_ylabel('y-axis label')\n",
    "ax[0].set_title('plot 1')\n",
    "\n",
    "\n",
    "# accessing to the second column ax[1]\n",
    "ax[1].plot( y2, color = 'blue', marker = 'v', linestyle = '' , markersize = 16 )\n",
    "ax[1].plot( y3, color = 'orange', marker = '', linestyle = '-' )\n",
    "ax[1].set_xlabel('x-axis label')\n",
    "ax[1].set_ylabel('y-axis label')\n",
    "ax[1].set_title('plot 2')\n",
    "\n",
    "plt.show()"
   ]
  },
  {
   "cell_type": "markdown",
   "metadata": {},
   "source": [
    "**setting up a legend** \n",
    "\n",
    "Each element we add to the figure using `plot()` can be given a label using the `label` argument.\n",
    "Then, a legend may be added to the figure using the `legend()` method.\n",
    "\n",
    "This `legend()` method can take a `loc` argument that specifies where it should be plotted. \n",
    "Possible values for this argument are: `'best' , 'upper right' , 'upper left' , 'lower left' , 'lower right' , 'right' , 'center left' , 'center right' , 'lower center' , 'upper center' , 'center'` (the default is `best`).\n"
   ]
  },
  {
   "cell_type": "code",
   "execution_count": null,
   "metadata": {},
   "outputs": [],
   "source": [
    "\n",
    "fig, ax = plt.subplots(nrows=1, ncols=1 , figsize=(10,5)) # 2 columns and 1 row\n",
    "\n",
    "# NB : with 1 col and 1 row, ax is directly the sole subplot we have\n",
    "#      so to call it we just use ax.plot , ax.set_xlabel , ...\n",
    "\n",
    "ax.plot( y1, color = 'green', marker = 'o', linestyle = '--', linewidth = 2 , label = 'line A' )\n",
    "ax.plot( y2, color = 'blue', marker = 'v', linestyle = '' , markersize =  8 , label = 'line B' )\n",
    "ax.plot( y3, color = 'orange', marker = '', linestyle = '-' , linewidth = 2 , label = 'line C' )\n",
    "\n",
    "ax.set_xlabel('x-axis label')\n",
    "ax.set_ylabel('y-axis label')\n",
    "ax.set_title('plot with a legend')\n",
    "\n",
    "#adding a legend in the upper right\n",
    "ax.legend( loc='upper right')\n",
    "\n",
    "plt.show()\n"
   ]
  },
  {
   "cell_type": "markdown",
   "metadata": {},
   "source": [
    "**additional : writing a figure to a file**\n",
    "\n",
    "Writing a matplotlib figure to a file can be achieved simply by replacing the call to `plt.show()` to `plt.savefig(...)`.\n",
    "\n",
    "`plt.savefig` takes a number of argument, the most commons are :\n",
    " * `fname` : name of the file to write the figure. The extension is used to determine the output format (.pdf,.png, .jpg , .svg ,  ...). Many formats are supported, you can get a list with this command : `plt.gcf().canvas.get_supported_filetypes()`\n",
    " * `dpi` : dots per inches , useful to set-up when saving to raster formats (ie., pixel-based such as png or jpeg). The actual size of the image is set using the argument `figsize` of `plt.subplots()`\n",
    "\n",
    "\n",
    "> Note : in a jupyter notebook the figure will still be shown, whereas in a standard .py script it will not appear on screen.\n",
    "\n",
    "\n",
    "Here is a demonstration. Apply in on your side and verify that the file `testPlot.png` was created:"
   ]
  },
  {
   "cell_type": "code",
   "execution_count": null,
   "metadata": {},
   "outputs": [],
   "source": [
    "import matplotlib.pyplot as plt\n",
    "\n",
    "y1 = [1,2,3,10,5]\n",
    "y2 = [10,9,7,5.5,6]\n",
    "y3 = [4,3,1.5,1]\n",
    "\n",
    "\n",
    "# subplots returns a Figure and an Axes object\n",
    "fig, ax = plt.subplots(nrows=1, ncols=2 , figsize = (10,6) ) # 2 columns and 1 row\n",
    "\n",
    "# ax is a list with two objects. Each object correspond to 1 subplot\n",
    "\n",
    "# accessing to the first column ax[0]\n",
    "ax[0].plot( y1, color = 'green', marker = 'o', linestyle = '--', linewidth = 2, markersize = 8 )\n",
    "\n",
    "# accessing to the second column ax[1]\n",
    "ax[1].plot( y2, color = 'blue', marker = 'v', linestyle = '' , markersize = 16 )\n",
    "ax[1].plot( y3, color = 'orange', marker = '', linestyle = '-' )\n",
    "\n",
    "plt.savefig( 'testPlot.png' , dpi = 90  )"
   ]
  },
  {
   "cell_type": "markdown",
   "metadata": {},
   "source": [
    "## Exercise 00.01 : bringing together numpy and matplotlib <a class=\"anchor\" id=\"ex01\"></a>\n",
    "\n",
    "Numpy arrays can be plotted as if they were lists.\n",
    "\n",
    "1. plot x and y, where:\n",
    "    * y = 1/(1+exp(-x))\n",
    "    * x varies between -5 and 5 (plotting around a 100 points should suffice).\n",
    "\n",
    "2. **Bonus :** plot multiples lines : y = 1/(1+exp(-x*b)) , for the following values of b: 0.5 , 1 , 2 , 4.\n",
    "    * x still varies between -5 and 5 (plotting around a 100 points should suffice).\n",
    "    * put a legend in your plot\n",
    "\n"
   ]
  },
  {
   "cell_type": "code",
   "execution_count": null,
   "metadata": {},
   "outputs": [],
   "source": []
  },
  {
   "cell_type": "markdown",
   "metadata": {},
   "source": [
    "You can load the solution directly in this notebook by uncommenting and running the following line:"
   ]
  },
  {
   "cell_type": "code",
   "execution_count": null,
   "metadata": {},
   "outputs": [],
   "source": [
    "# %load  -r -8 solutions/solution_00_01.py"
   ]
  },
  {
   "cell_type": "markdown",
   "metadata": {},
   "source": [
    "bonus question solution:"
   ]
  },
  {
   "cell_type": "code",
   "execution_count": null,
   "metadata": {},
   "outputs": [],
   "source": [
    "# %load  -r 9- solutions/solution_00_01.py"
   ]
  },
  {
   "cell_type": "markdown",
   "metadata": {},
   "source": [
    "[back to the top](#top)\n",
    "\n",
    "## 04. generating random numbers <a class=\"anchor\" id=\"random\"></a>\n",
    "\n",
    "\n",
    "**the basics**"
   ]
  },
  {
   "cell_type": "code",
   "execution_count": null,
   "metadata": {},
   "outputs": [],
   "source": [
    "import numpy.random as rd\n",
    "\n",
    "# random floats between 0 and 1\n",
    "for i in range(4):\n",
    "    print( rd.random() )\n"
   ]
  },
  {
   "cell_type": "code",
   "execution_count": null,
   "metadata": {},
   "outputs": [],
   "source": [
    "print( rd.random(size=10) ) # draw directly 10 numbers"
   ]
  },
  {
   "cell_type": "markdown",
   "metadata": {},
   "source": [
    "**setting the seed : pseudorandomness and reproducibility**"
   ]
  },
  {
   "cell_type": "code",
   "execution_count": null,
   "metadata": {},
   "outputs": [],
   "source": [
    "rd.seed(42) # setting the seed to 42\n",
    "print( '1st draw' , rd.random(size=5) )\n",
    "print( '2nd draw' , rd.random(size=5) )\n",
    "rd.seed(42)\n",
    "print( 'after resetting seed' , rd.random(size=5) )"
   ]
  },
  {
   "cell_type": "markdown",
   "metadata": {},
   "source": [
    "**beyond the uniform distribution**\n",
    "\n",
    "numpy offers you quite a large [set of distributions you can draw from](https://docs.scipy.org/doc/numpy-1.15.0/reference/routines.random.html#distributions).\n",
    "\n",
    "Let's look at the normal distribution:"
   ]
  },
  {
   "cell_type": "code",
   "execution_count": null,
   "metadata": {},
   "outputs": [],
   "source": [
    "\n",
    "normalDraw = rd.normal(size = 1000 )\n",
    "\n",
    "print( 'mean ' , np.mean( normalDraw ) )\n",
    "print( 'stdev' , np.std( normalDraw ) )"
   ]
  },
  {
   "cell_type": "code",
   "execution_count": null,
   "metadata": {},
   "outputs": [],
   "source": [
    "normalDraw2 = rd.normal( loc = -2 , scale = 3 , size = 300 ) # loc chnages the location (mean), and scale changes the standard deviation\n",
    "\n",
    "print( 'mean ' , np.mean( normalDraw2 ) )\n",
    "print( 'stdev' , np.std( normalDraw2 ) )"
   ]
  },
  {
   "cell_type": "markdown",
   "metadata": {},
   "source": [
    "of course, we could want to plot these drawn numbers:"
   ]
  },
  {
   "cell_type": "code",
   "execution_count": null,
   "metadata": {},
   "outputs": [],
   "source": [
    "plt.hist( normalDraw  , alpha = 0.5 , label='loc=0  , scale=1')\n",
    "plt.hist( normalDraw2 , alpha = 0.5 , label='loc=-2 , scale=3')\n",
    "plt.legend()\n",
    "plt.show()"
   ]
  },
  {
   "cell_type": "markdown",
   "metadata": {},
   "source": [
    "[back to the top](#top)\n",
    "\n",
    "## 05. statistical testing <a class=\"anchor\" id=\"stats\"></a>\n",
    "\n",
    "`numpy.random` let's you draw random numbers ;\n",
    "`scipy.stats` implements the probability density functions, and Percent point function, as well as the most statistical tests.\n"
   ]
  },
  {
   "cell_type": "code",
   "execution_count": null,
   "metadata": {},
   "outputs": [],
   "source": [
    "import scipy.stats as stats\n",
    "\n",
    "# plotting the probability density function for 1 of the random draw we just made:\n",
    "\n",
    "x = np.linspace(-10,10,1001)\n",
    "\n",
    "normPDF = stats.norm.pdf( x , loc = -2 , scale = 3 )\n",
    "\n",
    "plt.hist( normalDraw2 , alpha = 0.5 , label='random draw' , density = True) # don't forget density=True\n",
    "plt.plot(x,normPDF , label='PDF' )\n",
    "plt.legend()\n",
    "plt.show()"
   ]
  },
  {
   "cell_type": "markdown",
   "metadata": {},
   "source": [
    "We can also get the expected quantiles of a distribution:"
   ]
  },
  {
   "cell_type": "code",
   "execution_count": null,
   "metadata": {},
   "outputs": [],
   "source": [
    "print( '95% quantile of a Chi-square distribution with 3 degrees of freedom:', stats.chi2.ppf(0.95 , df=3))\n",
    "print( 'fraction of a Chi-square distribution with 3 degrees of freedom above of equal to 5' ,  \n",
    "      1 - stats.chi2.cdf( 5 , df=3 ) )"
   ]
  },
  {
   "cell_type": "markdown",
   "metadata": {},
   "source": [
    "And you can apply some classical statistical tests:"
   ]
  },
  {
   "cell_type": "code",
   "execution_count": null,
   "metadata": {},
   "outputs": [],
   "source": [
    "# t-test of independance between two random samples:\n",
    "rd.seed(73)\n",
    "\n",
    "s1 = rd.normal(size=67)\n",
    "s2 = rd.normal(size=54 , loc = 0.2)\n",
    "\n",
    "testStat , pval = stats.ttest_ind(s1,s2 , equal_var=True)  # equal variance : Student's t-test ; unequal : Welch's\n",
    "#almost all of these stat functions return the same test-statistic , pvalue tuple\n",
    "\n",
    "print('result of the t-test')\n",
    "print('\\tt:',testStat)\n",
    "print('\\tp-value:',pval)"
   ]
  },
  {
   "cell_type": "markdown",
   "metadata": {},
   "source": [
    "**What is our conclusion for these tests results? What do you think about this?**"
   ]
  },
  {
   "cell_type": "code",
   "execution_count": null,
   "metadata": {},
   "outputs": [],
   "source": [
    "\n",
    "# Kolmogorov-smirnov test for a chi-square distribution\n",
    "\n",
    "sample = rd.chisquare(df=13 , size = 43)\n",
    "\n",
    "\n",
    "# kstest expect as second argument the cdf function of the reference distribution\n",
    "# this is how to handle the fact that me must set an argument (degree of freedom)\n",
    "refDistribution = stats.chi2(df=13).cdf\n",
    "\n",
    "testStat , pval = stats.kstest( sample , refDistribution )\n",
    "# alternative : \n",
    "# testStat , pval = stats.kstest( sample , lambda x : stats.chi2.cdf(x , df=13 ) )\n",
    "\n",
    "print('result of the Kolmogorov-Smirnov test comparing our sample to a Chi-square distribution with 13 degrees of freedom')\n",
    "print('\\tK:',testStat)\n",
    "print('\\tp-value:',pval)\n"
   ]
  },
  {
   "cell_type": "markdown",
   "metadata": {},
   "source": [
    "If you are interested, this [webpage](https://machinelearningmastery.com/statistical-hypothesis-tests-in-python-cheat-sheet/) references all implemented tests, with examples."
   ]
  },
  {
   "cell_type": "markdown",
   "metadata": {},
   "source": [
    "[back to the top](#top)\n",
    "\n",
    "## 06. bringing together numpy, numpy.random, and matplotlib <a class=\"anchor\" id=\"together\"></a>\n",
    "\n",
    "The random generation function return a numpy array, meaning it is fairly trivial to combine it with other arrays:\n"
   ]
  },
  {
   "cell_type": "code",
   "execution_count": null,
   "metadata": {},
   "outputs": [],
   "source": [
    "# combining \n",
    "\n",
    "x = np.sort( rd.normal(loc=170 , scale = 23 , size = 100) )\n",
    "\n",
    "y_theoretical = 0.75 * x + 100 # simple linear relationship : y = a * x + b\n",
    "\n",
    "measurement_noise = rd.normal(scale = 10 , size = 100) # some noise associated to the measure\n",
    "\n",
    "y_observed = y_theoretical + measurement_noise # observed = expected + noise\n",
    "\n",
    "fig,ax = plt.subplots(figsize=(8,8))\n",
    "plt.plot( x , y_theoretical , label = 'expected' )\n",
    "plt.plot( x , y_observed , marker = '.' , linestyle='' , alpha = 0.7 , label = 'observed')\n",
    "plt.legend()\n",
    "plt.show()"
   ]
  },
  {
   "cell_type": "markdown",
   "metadata": {},
   "source": [
    "[back to the top](#top)\n",
    "\n",
    "## 07. the briefest intro to pandas <a class=\"anchor\" id=\"pandas\"></a>\n",
    "\n",
    "`pandas` is a powerful library when doing data analysis, especially in the forms of table.\n",
    "\n",
    "Basically, it reimplements R data.frame as a DataFrame object and ties together neatly with the libraries we've just seen.\n"
   ]
  },
  {
   "cell_type": "code",
   "execution_count": null,
   "metadata": {},
   "outputs": [],
   "source": [
    " import pandas as pd\n",
    "    \n",
    "df = pd.read_table( 'data/beetle.csv' , sep=',' , index_col=0 ) # pandas automatically detects header.\n",
    "\n",
    "df.head()"
   ]
  },
  {
   "cell_type": "code",
   "execution_count": null,
   "metadata": {},
   "outputs": [],
   "source": [
    "Nrows, Ncols = df.shape\n",
    "print( 'number of rows:',Nrows, 'number of columns:', Ncols )\n",
    "print( 'column names' , df.columns )"
   ]
  },
  {
   "cell_type": "code",
   "execution_count": null,
   "metadata": {},
   "outputs": [],
   "source": [
    "df.describe()"
   ]
  },
  {
   "cell_type": "code",
   "execution_count": null,
   "metadata": {},
   "outputs": [],
   "source": [
    "# select a single column:\n",
    "df['dose']"
   ]
  },
  {
   "cell_type": "code",
   "execution_count": null,
   "metadata": {},
   "outputs": [],
   "source": [
    "df[ ['ndied','nalive'] ] # select several columns"
   ]
  },
  {
   "cell_type": "markdown",
   "metadata": {},
   "source": [
    "**Plotting DataFrame Columns**\n",
    "\n",
    "Because `DataFrame` columns are iterable, they can seamlessly be given as argument to `plot()`."
   ]
  },
  {
   "cell_type": "code",
   "execution_count": null,
   "metadata": {},
   "outputs": [],
   "source": [
    "\n",
    "# plotting the column dose along the x-axis and prop along the y-axis\n",
    "# I use the + marker, with a teal color.\n",
    "plt.plot(df['dose'] , df['prop'] , color = 'teal' , linestyle='' , marker = '+' , markersize=10 )\n",
    "plt.xlabel( 'dose' )\n",
    "plt.ylabel( 'proportion of dead' )\n",
    "plt.show()"
   ]
  },
  {
   "cell_type": "markdown",
   "metadata": {},
   "source": [
    "DataFrame column can be manipulated like numpy array:"
   ]
  },
  {
   "cell_type": "code",
   "execution_count": null,
   "metadata": {},
   "outputs": [],
   "source": [
    "\n",
    "## we can combine columns using normal operators\n",
    "Odds = df['nalive'] /df['ndied'] # the odds of being alive is nalive / ndead\n",
    "\n",
    "## adding a new column to the DataFrame is trivial:\n",
    "df['Odds'] = Odds\n",
    "\n",
    "\n",
    "## we can also apply numpy function to them\n",
    "df['logOdds'] = np.log( df['Odds'] )\n",
    "\n",
    "\n",
    "plt.plot(df['dose'] , df['logOdds'] , color = 'teal' , linestyle='' , marker = '+' , markersize=10 )\n",
    "plt.xlabel( 'dose' )\n",
    "plt.ylabel( 'log Odds' )\n",
    "plt.show()\n"
   ]
  },
  {
   "cell_type": "markdown",
   "metadata": {},
   "source": [
    "[back to the top](#top)\n",
    "\n",
    "## Exercise 00.02 : tying everything together <a class=\"anchor\" id=\"exo2\"></a>\n",
    "\n",
    "1. Read the file `'data/kyphosis.csv'`.\n",
    "2. how many columns are there ?\n",
    "3. What is the maximum Age ? \n",
    "4. create a new column `Stop` , corresponding to the addition of columns `'Start'` and `'Number'`\n",
    "5. plot the relationship between `'Age'` and `'Number'` (bonus point : use colors to indicate the presence or absence of kyphosis ).\n",
    "\n",
    "\n"
   ]
  },
  {
   "cell_type": "code",
   "execution_count": null,
   "metadata": {},
   "outputs": [],
   "source": []
  },
  {
   "cell_type": "markdown",
   "metadata": {},
   "source": [
    "Solutions:"
   ]
  },
  {
   "cell_type": "code",
   "execution_count": null,
   "metadata": {},
   "outputs": [],
   "source": [
    "# %load  -r -7 solutions/solution_00_02.py"
   ]
  },
  {
   "cell_type": "code",
   "execution_count": null,
   "metadata": {},
   "outputs": [],
   "source": [
    "# %load  -r 8-9 solutions/solution_00_02.py"
   ]
  },
  {
   "cell_type": "code",
   "execution_count": null,
   "metadata": {},
   "outputs": [],
   "source": [
    "# %load  -r 11-12 solutions/solution_00_02.py"
   ]
  },
  {
   "cell_type": "code",
   "execution_count": null,
   "metadata": {},
   "outputs": [],
   "source": [
    "# %load  -r 14-15 solutions/solution_00_02.py"
   ]
  },
  {
   "cell_type": "code",
   "execution_count": null,
   "metadata": {},
   "outputs": [],
   "source": [
    "# %load  -r 17-22 solutions/solution_00_02.py"
   ]
  },
  {
   "cell_type": "code",
   "execution_count": null,
   "metadata": {},
   "outputs": [],
   "source": [
    "# %load  -r 24- solutions/solution_00_02.py"
   ]
  }
 ],
 "metadata": {
  "kernelspec": {
   "display_name": "Python 3 (ipykernel)",
   "language": "python",
   "name": "python3"
  },
  "language_info": {
   "codemirror_mode": {
    "name": "ipython",
    "version": 3
   },
   "file_extension": ".py",
   "mimetype": "text/x-python",
   "name": "python",
   "nbconvert_exporter": "python",
   "pygments_lexer": "ipython3",
   "version": "3.8.8"
  }
 },
 "nbformat": 4,
 "nbformat_minor": 2
}
