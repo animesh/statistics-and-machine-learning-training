{
 "cells": [
  {
   "cell_type": "markdown",
   "metadata": {},
   "source": [
    "**Mini-exercice : given this model how would you deduce the doubling time (mean time it takes for the number of infected to double) ?** "
   ]
  },
  {
   "cell_type": "code",
   "execution_count": 2,
   "metadata": {},
   "outputs": [
    {
     "data": {
      "text/plain": [
       "6.144921813474692"
      ]
     },
     "execution_count": 2,
     "metadata": {},
     "output_type": "execute_result"
    }
   ],
   "source": [
    "import numpy as np\n",
    "\n",
    "# answer : the doubling time corresponds to the number of days d, \n",
    "# n0*exp(beta*d) = 2*n0*exp(beta*0)\n",
    "# --> exp(beta*d) = 2\n",
    "# --> beta*d == log(2)\n",
    "doubling_time = np.log(2)/0.1128\n",
    "doubling_time"
   ]
  },
  {
   "cell_type": "markdown",
   "metadata": {},
   "source": [
    "# Exercise on GLM :  a dose-response problem"
   ]
  },
  {
   "cell_type": "markdown",
   "metadata": {},
   "source": [
    "In the following dataset we would like to model the death rate of beetles due to some pesticide concentration."
   ]
  },
  {
   "cell_type": "code",
   "execution_count": 6,
   "metadata": {},
   "outputs": [
    {
     "data": {
      "text/html": [
       "<div>\n",
       "<style scoped>\n",
       "    .dataframe tbody tr th:only-of-type {\n",
       "        vertical-align: middle;\n",
       "    }\n",
       "\n",
       "    .dataframe tbody tr th {\n",
       "        vertical-align: top;\n",
       "    }\n",
       "\n",
       "    .dataframe thead th {\n",
       "        text-align: right;\n",
       "    }\n",
       "</style>\n",
       "<table border=\"1\" class=\"dataframe\">\n",
       "  <thead>\n",
       "    <tr style=\"text-align: right;\">\n",
       "      <th></th>\n",
       "      <th>dose</th>\n",
       "      <th>nexp</th>\n",
       "      <th>ndied</th>\n",
       "      <th>prop</th>\n",
       "      <th>nalive</th>\n",
       "    </tr>\n",
       "  </thead>\n",
       "  <tbody>\n",
       "    <tr>\n",
       "      <td>1</td>\n",
       "      <td>49.1</td>\n",
       "      <td>59</td>\n",
       "      <td>6</td>\n",
       "      <td>0.102</td>\n",
       "      <td>53</td>\n",
       "    </tr>\n",
       "    <tr>\n",
       "      <td>2</td>\n",
       "      <td>53.0</td>\n",
       "      <td>60</td>\n",
       "      <td>13</td>\n",
       "      <td>0.217</td>\n",
       "      <td>47</td>\n",
       "    </tr>\n",
       "    <tr>\n",
       "      <td>3</td>\n",
       "      <td>56.9</td>\n",
       "      <td>62</td>\n",
       "      <td>18</td>\n",
       "      <td>0.290</td>\n",
       "      <td>44</td>\n",
       "    </tr>\n",
       "    <tr>\n",
       "      <td>4</td>\n",
       "      <td>60.8</td>\n",
       "      <td>56</td>\n",
       "      <td>28</td>\n",
       "      <td>0.500</td>\n",
       "      <td>28</td>\n",
       "    </tr>\n",
       "    <tr>\n",
       "      <td>5</td>\n",
       "      <td>64.8</td>\n",
       "      <td>63</td>\n",
       "      <td>52</td>\n",
       "      <td>0.825</td>\n",
       "      <td>11</td>\n",
       "    </tr>\n",
       "    <tr>\n",
       "      <td>6</td>\n",
       "      <td>68.7</td>\n",
       "      <td>59</td>\n",
       "      <td>53</td>\n",
       "      <td>0.898</td>\n",
       "      <td>6</td>\n",
       "    </tr>\n",
       "    <tr>\n",
       "      <td>7</td>\n",
       "      <td>72.6</td>\n",
       "      <td>62</td>\n",
       "      <td>61</td>\n",
       "      <td>0.984</td>\n",
       "      <td>1</td>\n",
       "    </tr>\n",
       "    <tr>\n",
       "      <td>8</td>\n",
       "      <td>76.5</td>\n",
       "      <td>60</td>\n",
       "      <td>60</td>\n",
       "      <td>1.000</td>\n",
       "      <td>0</td>\n",
       "    </tr>\n",
       "  </tbody>\n",
       "</table>\n",
       "</div>"
      ],
      "text/plain": [
       "   dose  nexp  ndied   prop  nalive\n",
       "1  49.1    59      6  0.102      53\n",
       "2  53.0    60     13  0.217      47\n",
       "3  56.9    62     18  0.290      44\n",
       "4  60.8    56     28  0.500      28\n",
       "5  64.8    63     52  0.825      11\n",
       "6  68.7    59     53  0.898       6\n",
       "7  72.6    62     61  0.984       1\n",
       "8  76.5    60     60  1.000       0"
      ]
     },
     "execution_count": 6,
     "metadata": {},
     "output_type": "execute_result"
    }
   ],
   "source": [
    "import pandas as pd\n",
    "import matplotlib.pyplot as plt\n",
    "import statsmodels.api as sm\n",
    "\n",
    "df_beetles=pd.read_csv('beetle.csv' , index_col=0)\n",
    "df_beetles"
   ]
  },
  {
   "cell_type": "code",
   "execution_count": 7,
   "metadata": {},
   "outputs": [
    {
     "data": {
      "text/plain": [
       "Text(0, 0.5, 'Proportion of dead')"
      ]
     },
     "execution_count": 7,
     "metadata": {},
     "output_type": "execute_result"
    },
    {
     "data": {
      "image/png": "[encoded data removed]",
      "text/plain": [
       "<Figure size 504x432 with 1 Axes>"
      ]
     },
     "metadata": {
      "needs_background": "light"
     },
     "output_type": "display_data"
    }
   ],
   "source": [
    "fig, ax = plt.subplots(ncols=1,figsize=(7,6))\n",
    "ax.scatter( df_beetles[\"dose\"], df_beetles[\"prop\"])\n",
    "ax.set_xlabel('dose')\n",
    "ax.set_ylabel('Proportion of dead')"
   ]
  },
  {
   "cell_type": "markdown",
   "metadata": {},
   "source": [
    "Using what You have learned, build a model of the number of dead and alive beetles \n",
    "depending on the insecticide dose.\n",
    "\n",
    "Here is a tentative path you may follow:\n",
    "1. decide on a relevant model family given the quantity you want to model\n",
    "2. create and fit your model\n",
    "3. inspect the results of your fitting\n",
    "4. plot the predictions of your model with the observed data\n",
    "\n",
    "**IMPORTANT NOTES**\n",
    "\n",
    "* Here you can see that the number of bettle is not always exactly the same (from 56 to 63).\n",
    "* It is possible to have several predicted variable in your model, the way you would do it is:\n",
    "```\n",
    "y=df_beetles[[\"ndied\",\"nalive\"]]\n",
    "```"
   ]
  },
  {
   "cell_type": "code",
   "execution_count": 8,
   "metadata": {},
   "outputs": [
    {
     "name": "stdout",
     "output_type": "stream",
     "text": [
      "                  Generalized Linear Model Regression Results                  \n",
      "===============================================================================\n",
      "Dep. Variable:     ['ndied', 'nalive']   No. Observations:                    8\n",
      "Model:                             GLM   Df Residuals:                        6\n",
      "Model Family:                 Binomial   Df Model:                            1\n",
      "Link Function:                   logit   Scale:                          1.0000\n",
      "Method:                           IRLS   Log-Likelihood:                -16.791\n",
      "Date:                 Tue, 08 Dec 2020   Deviance:                       7.3849\n",
      "Time:                         09:43:16   Pearson chi2:                     6.52\n",
      "No. Iterations:                      6                                         \n",
      "Covariance Type:             nonrobust                                         \n",
      "==============================================================================\n",
      "                 coef    std err          z      P>|z|      [0.025      0.975]\n",
      "------------------------------------------------------------------------------\n",
      "const        -14.8230      1.290    -11.494      0.000     -17.351     -12.295\n",
      "dose           0.2494      0.021     11.662      0.000       0.207       0.291\n",
      "==============================================================================\n"
     ]
    },
    {
     "name": "stderr",
     "output_type": "stream",
     "text": [
      "/home/wandrille/Installed_software/anaconda3/lib/python3.7/site-packages/numpy/core/fromnumeric.py:2495: FutureWarning: Method .ptp is deprecated and will be removed in a future version. Use numpy.ptp instead.\n",
      "  return ptp(axis=axis, out=out, **kwargs)\n"
     ]
    }
   ],
   "source": [
    "y=df_beetles[[\"ndied\",\"nalive\"]]\n",
    "#since we want our random variable to be represented by a binomial we need two parameters\n",
    "#to define a binomial.\n",
    "\n",
    "X = df_beetles[\"dose\"]\n",
    "X = sm.add_constant(X)\n",
    "model = sm.GLM(y, X,family=sm.families.Binomial())\n",
    "results = model.fit()\n",
    "\n",
    "print( results.summary() )"
   ]
  },
  {
   "cell_type": "code",
   "execution_count": 9,
   "metadata": {},
   "outputs": [
    {
     "data": {
      "text/plain": [
       "<matplotlib.legend.Legend at 0x7fb4575f0950>"
      ]
     },
     "execution_count": 9,
     "metadata": {},
     "output_type": "execute_result"
    },
    {
     "data": {
      "image/png": "[encoded data removed]",
      "text/plain": [
       "<Figure size 432x432 with 1 Axes>"
      ]
     },
     "metadata": {
      "needs_background": "light"
     },
     "output_type": "display_data"
    }
   ],
   "source": [
    "predictedProportionOfDead =  results.mu \n",
    "# equivalent to : 1./(1+np.exp(-(-14.8230+0.2494*df_beetles[\"dose\"]))) \n",
    "\n",
    "fig, ax = plt.subplots(ncols=1,figsize=(6,6))\n",
    "ax.plot(df_beetles[\"dose\"] , df_beetles[\"prop\"] ,'bo',label='data')\n",
    "ax.plot(df_beetles[\"dose\"], predictedProportionOfDead,'r--',label='prediction GLM')\n",
    "\n",
    "ax.set_xlabel('dose')\n",
    "ax.set_ylabel('proportion of dead')\n",
    "ax.legend(loc='best',fontsize=12)"
   ]
  }
 ],
 "metadata": {
  "kernelspec": {
   "display_name": "Python 3",
   "language": "python",
   "name": "python3"
  },
  "language_info": {
   "codemirror_mode": {
    "name": "ipython",
    "version": 3
   },
   "file_extension": ".py",
   "mimetype": "text/x-python",
   "name": "python",
   "nbconvert_exporter": "python",
   "pygments_lexer": "ipython3",
   "version": "3.7.4"
  }
 },
 "nbformat": 4,
 "nbformat_minor": 2
}
